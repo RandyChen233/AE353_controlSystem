{
 "cells": [
  {
   "cell_type": "markdown",
   "metadata": {},
   "source": [
    "# Equations of motion for control moment gyroscope\n",
    "\n",
    "This notebook makes use of [SymPy](https://docs.sympy.org/), which is a Python library for symbolic mathematics."
   ]
  },
  {
   "cell_type": "code",
   "execution_count": 1,
   "metadata": {},
   "outputs": [],
   "source": [
    "import sympy as sym"
   ]
  },
  {
   "cell_type": "markdown",
   "metadata": {},
   "source": [
    "The `sympy.physics.mechanics` module makes it easier to work with (and display) time derivatives."
   ]
  },
  {
   "cell_type": "code",
   "execution_count": 2,
   "metadata": {},
   "outputs": [],
   "source": [
    "from sympy.physics import mechanics\n",
    "mechanics.init_vprinting()"
   ]
  },
  {
   "cell_type": "markdown",
   "metadata": {},
   "source": [
    "Define physical constants - in this case, all of the principal moments of inertia (these are the same as in the URDF file that describes the CMG). Also, define moment of inertia matrices in terms of these principal moments. These moment of inertia matrices are described with respect to body-fixed reference frames."
   ]
  },
  {
   "cell_type": "code",
   "execution_count": 3,
   "metadata": {},
   "outputs": [],
   "source": [
    "# Principal moments of inertia (matching the URDF)\n",
    "J1x = sym.nsimplify(0.25)\n",
    "J1y = J1x\n",
    "J1z = sym.nsimplify(0.5)\n",
    "J2x = sym.nsimplify(0.001)\n",
    "J2y = J2x\n",
    "J2z = J2x\n",
    "J3x = sym.nsimplify(0.01)\n",
    "J3y = J3x\n",
    "J3z = J3x\n",
    "\n",
    "# Moment of inertia matrices in body-fixed reference frames\n",
    "J1 = sym.Matrix.diag(J1x, J1y, J1z)\n",
    "J2 = sym.Matrix.diag(J2x, J2y, J2z)\n",
    "J3 = sym.Matrix.diag(J3x, J3y, J3z)"
   ]
  },
  {
   "cell_type": "code",
   "execution_count": 4,
   "metadata": {},
   "outputs": [
    {
     "data": {
      "text/latex": [
       "$\\displaystyle \\left[\\begin{matrix}\\frac{1}{4} & 0 & 0\\\\0 & \\frac{1}{4} & 0\\\\0 & 0 & \\frac{1}{2}\\end{matrix}\\right]$"
      ],
      "text/plain": [
       "⎡1/4   0    0 ⎤\n",
       "⎢             ⎥\n",
       "⎢ 0   1/4   0 ⎥\n",
       "⎢             ⎥\n",
       "⎣ 0    0   1/2⎦"
      ]
     },
     "execution_count": 4,
     "metadata": {},
     "output_type": "execute_result"
    }
   ],
   "source": [
    "J1"
   ]
  },
  {
   "cell_type": "code",
   "execution_count": 5,
   "metadata": {},
   "outputs": [
    {
     "data": {
      "text/latex": [
       "$\\displaystyle \\left[\\begin{matrix}\\frac{1}{1000} & 0 & 0\\\\0 & \\frac{1}{1000} & 0\\\\0 & 0 & \\frac{1}{1000}\\end{matrix}\\right]$"
      ],
      "text/plain": [
       "⎡1/1000    0       0   ⎤\n",
       "⎢                      ⎥\n",
       "⎢  0     1/1000    0   ⎥\n",
       "⎢                      ⎥\n",
       "⎣  0       0     1/1000⎦"
      ]
     },
     "execution_count": 5,
     "metadata": {},
     "output_type": "execute_result"
    }
   ],
   "source": [
    "J2"
   ]
  },
  {
   "cell_type": "code",
   "execution_count": 7,
   "metadata": {},
   "outputs": [
    {
     "data": {
      "text/latex": [
       "$\\displaystyle \\left[\\begin{matrix}\\frac{1}{100} & 0 & 0\\\\0 & \\frac{1}{100} & 0\\\\0 & 0 & \\frac{1}{100}\\end{matrix}\\right]$"
      ],
      "text/plain": [
       "⎡1/100    0      0  ⎤\n",
       "⎢                   ⎥\n",
       "⎢  0    1/100    0  ⎥\n",
       "⎢                   ⎥\n",
       "⎣  0      0    1/100⎦"
      ]
     },
     "execution_count": 7,
     "metadata": {},
     "output_type": "execute_result"
    }
   ],
   "source": [
    "J3"
   ]
  },
  {
   "cell_type": "code",
   "execution_count": 8,
   "metadata": {},
   "outputs": [],
   "source": [
    "# Time\n",
    "t = sym.Symbol('t')\n",
    "\n",
    "# Joint angles:\n",
    "#\n",
    "#  q1 is the angle of the \"outer\" link\n",
    "#  q2 is the angle of the \"inner\" link\n",
    "#  q3 is the angle of the wheel\n",
    "#\n",
    "q1, q2, q3 = mechanics.dynamicsymbols('q1, q2, q3')\n",
    "\n",
    "# Joint velocities\n",
    "v1 = q1.diff(t)\n",
    "v2 = q2.diff(t)\n",
    "v3 = q3.diff(t)\n",
    "\n",
    "# Joint accelerations\n",
    "a1 = v1.diff(t)\n",
    "a2 = v2.diff(t)\n",
    "a3 = v3.diff(t)\n",
    "\n",
    "# Torques:\n",
    "#\n",
    "#  tau2 is the torque applied by the outer link to the inner link\n",
    "#  tau3 is the torque applied by the inner link to the wheel\n",
    "#\n",
    "tau2, tau3 = sym.symbols('tau2, tau3')"
   ]
  },
  {
   "cell_type": "markdown",
   "metadata": {},
   "source": [
    "Compute angular velocity of each link with respect to body-fixed reference frames (the choice of frame is very important - using a space-fixed reference frame is a common mistake)."
   ]
  },
  {
   "cell_type": "code",
   "execution_count": 9,
   "metadata": {},
   "outputs": [
    {
     "data": {
      "text/latex": [
       "$\\displaystyle \\left( \\left[\\begin{matrix}0\\\\0\\\\\\dot{q}_{1}\\end{matrix}\\right], \\  \\left[\\begin{matrix}\\dot{q}_{2}\\\\0\\\\\\dot{q}_{1}\\end{matrix}\\right], \\  \\left[\\begin{matrix}\\dot{q}_{2}\\\\\\operatorname{sin}\\left(q_{2}\\right) \\dot{q}_{1} - \\dot{q}_{3}\\\\\\operatorname{cos}\\left(q_{2}\\right) \\dot{q}_{1}\\end{matrix}\\right]\\right)$"
      ],
      "text/plain": [
       "⎛⎡0 ⎤  ⎡q₂̇⎤  ⎡      q₂̇       ⎤⎞\n",
       "⎜⎢  ⎥  ⎢  ⎥  ⎢               ⎥⎟\n",
       "⎜⎢0 ⎥, ⎢0 ⎥, ⎢sin(q₂)⋅q₁̇ - q₃̇⎥⎟\n",
       "⎜⎢  ⎥  ⎢  ⎥  ⎢               ⎥⎟\n",
       "⎝⎣q₁̇⎦  ⎣q₁̇⎦  ⎣  cos(q₂)⋅q₁̇   ⎦⎠"
      ]
     },
     "execution_count": 9,
     "metadata": {},
     "output_type": "execute_result"
    }
   ],
   "source": [
    "c1 = sym.cos(q1)\n",
    "s1 = sym.sin(q1)\n",
    "R_o_in_w = sym.Matrix([[c1, -s1, 0], [s1, c1, 0], [0, 0, 1]])\n",
    "\n",
    "c2 = sym.cos(q2)\n",
    "s2 = sym.sin(q2)\n",
    "R_i_in_o = sym.Matrix([[1, 0, 0], [0, c2, -s2], [0, s2, c2]])\n",
    "\n",
    "w1 = sym.Matrix([[0], [0], [v1]])\n",
    "w2 = R_o_in_w.T * w1 + sym.Matrix([[v2], [0], [0]])\n",
    "w3 = R_i_in_o.T * w2 + sym.Matrix([[0], [-v3], [0]])\n",
    "\n",
    "# Show result\n",
    "w1, w2, w3"
   ]
  },
  {
   "cell_type": "markdown",
   "metadata": {},
   "source": [
    "Compute Lagrangian."
   ]
  },
  {
   "cell_type": "code",
   "execution_count": 12,
   "metadata": {},
   "outputs": [
    {
     "data": {
      "text/latex": [
       "$\\displaystyle \\left[\\begin{matrix}- \\frac{\\operatorname{sin}\\left(q_{2}\\right) \\dot{q}_{1} \\dot{q}_{3}}{100} + \\frac{511 \\dot{q}_{1}^{2}}{2000} + \\frac{11 \\dot{q}_{2}^{2}}{2000} + \\frac{\\dot{q}_{3}^{2}}{200}\\end{matrix}\\right]$"
      ],
      "text/plain": [
       "⎡                        2        2     2⎤\n",
       "⎢  sin(q₂)⋅q₁̇⋅q₃̇   511⋅q₁̇    11⋅q₂̇    q₃̇ ⎥\n",
       "⎢- ───────────── + ─────── + ────── + ───⎥\n",
       "⎣       100          2000     2000    200⎦"
      ]
     },
     "execution_count": 12,
     "metadata": {},
     "output_type": "execute_result"
    }
   ],
   "source": [
    "T = sym.simplify(((w1.T * J1 * w1) + (w2.T * J2 * w2) + (w3.T * J3 * w3)) / 2)\n",
    "V = sym.Matrix([[0]])\n",
    "L = T - V\n",
    "\n",
    "# Show result\n",
    "L\n"
   ]
  },
  {
   "cell_type": "markdown",
   "metadata": {},
   "source": [
    "Compute equations of motion."
   ]
  },
  {
   "cell_type": "code",
   "execution_count": 17,
   "metadata": {},
   "outputs": [],
   "source": [
    "EOM = L.jacobian([v1, v2, v3]).diff(t) - L.jacobian([q1, q2, q3]) - sym.Matrix([0, tau2, tau3]).T"
   ]
  },
  {
   "cell_type": "markdown",
   "metadata": {},
   "source": [
    "Simplify equations of motion by solving for accelerations."
   ]
  },
  {
   "cell_type": "code",
   "execution_count": 18,
   "metadata": {},
   "outputs": [],
   "source": [
    "sol = sym.solve(EOM, [v1.diff(t), v2.diff(t), v3.diff(t)])\n",
    "h = sym.together(sym.simplify(sym.Matrix([[sol[a1]], [sol[a2]], [sol[a3]]]), full=True))"
   ]
  },
  {
   "cell_type": "markdown",
   "metadata": {},
   "source": [
    "Display the vector-valued function $h$ for which the equations of motion can be written as\n",
    "\n",
    "$$\\begin{bmatrix} \\ddot{q}_1 \\\\ \\ddot{q}_2 \\\\ \\ddot{q}_3 \\end{bmatrix} = h(q_1, q_2, q_3, v_1, v_2, v_3, t_2, t_3)$$"
   ]
  },
  {
   "cell_type": "code",
   "execution_count": 13,
   "metadata": {},
   "outputs": [
    {
     "data": {
      "text/latex": [
       "$\\displaystyle \\left[\\begin{matrix}- \\frac{10 \\left(\\left(100 \\tau_{3} + \\operatorname{cos}\\left(q_{2}\\right) \\dot{q}_{1} \\dot{q}_{2}\\right) \\operatorname{sin}\\left(q_{2}\\right) + \\operatorname{cos}\\left(q_{2}\\right) \\dot{q}_{2} \\dot{q}_{3}\\right)}{10 \\operatorname{sin}^{2}\\left(q_{2}\\right) - 511}\\\\\\frac{10 \\left(100 \\tau_{2} - \\operatorname{cos}\\left(q_{2}\\right) \\dot{q}_{1} \\dot{q}_{3}\\right)}{11}\\\\- \\frac{51100 \\tau_{3} + 5 \\operatorname{sin}\\left(2 q_{2}\\right) \\dot{q}_{2} \\dot{q}_{3} + 511 \\operatorname{cos}\\left(q_{2}\\right) \\dot{q}_{1} \\dot{q}_{2}}{10 \\operatorname{sin}^{2}\\left(q_{2}\\right) - 511}\\end{matrix}\\right]$"
      ],
      "text/plain": [
       "⎡-10⋅((100⋅τ₃ + cos(q₂)⋅q₁̇⋅q₂̇)⋅sin(q₂) + cos(q₂)⋅q₂̇⋅q₃̇) ⎤\n",
       "⎢───────────────────────────────────────────────────────⎥\n",
       "⎢                         2                             ⎥\n",
       "⎢                   10⋅sin (q₂) - 511                   ⎥\n",
       "⎢                                                       ⎥\n",
       "⎢              10⋅(100⋅τ₂ - cos(q₂)⋅q₁̇⋅q₃̇)              ⎥\n",
       "⎢              ───────────────────────────              ⎥\n",
       "⎢                           11                          ⎥\n",
       "⎢                                                       ⎥\n",
       "⎢ -(51100⋅τ₃ + 5⋅sin(2⋅q₂)⋅q₂̇⋅q₃̇ + 511⋅cos(q₂)⋅q₁̇⋅q₂̇)   ⎥\n",
       "⎢ ────────────────────────────────────────────────────  ⎥\n",
       "⎢                        2                              ⎥\n",
       "⎣                  10⋅sin (q₂) - 511                    ⎦"
      ]
     },
     "execution_count": 13,
     "metadata": {},
     "output_type": "execute_result"
    }
   ],
   "source": [
    "h"
   ]
  },
  {
   "cell_type": "markdown",
   "metadata": {},
   "source": [
    "Display $h$ as latex-formatted text that could be copy/pasted into a $\\LaTeX$ document (or into markdown)."
   ]
  },
  {
   "cell_type": "code",
   "execution_count": 14,
   "metadata": {},
   "outputs": [
    {
     "name": "stdout",
     "output_type": "stream",
     "text": [
      "\\left[\\begin{matrix}- \\frac{10 \\left(\\left(100 \\tau_{3} + \\operatorname{cos}\\left(q_{2}\\right) \\dot{q}_{1} \\dot{q}_{2}\\right) \\operatorname{sin}\\left(q_{2}\\right) + \\operatorname{cos}\\left(q_{2}\\right) \\dot{q}_{2} \\dot{q}_{3}\\right)}{10 \\operatorname{sin}^{2}\\left(q_{2}\\right) - 511}\\\\\\frac{10 \\left(100 \\tau_{2} - \\operatorname{cos}\\left(q_{2}\\right) \\dot{q}_{1} \\dot{q}_{3}\\right)}{11}\\\\- \\frac{51100 \\tau_{3} + 5 \\operatorname{sin}\\left(2 q_{2}\\right) \\dot{q}_{2} \\dot{q}_{3} + 511 \\operatorname{cos}\\left(q_{2}\\right) \\dot{q}_{1} \\dot{q}_{2}}{10 \\operatorname{sin}^{2}\\left(q_{2}\\right) - 511}\\end{matrix}\\right]\n"
     ]
    }
   ],
   "source": [
    "print(f'{mechanics.mlatex(h)}')"
   ]
  },
  {
   "cell_type": "code",
   "execution_count": null,
   "metadata": {},
   "outputs": [],
   "source": []
  }
 ],
 "metadata": {
  "kernelspec": {
   "display_name": "Python 3",
   "language": "python",
   "name": "python3"
  },
  "language_info": {
   "codemirror_mode": {
    "name": "ipython",
    "version": 3
   },
   "file_extension": ".py",
   "mimetype": "text/x-python",
   "name": "python",
   "nbconvert_exporter": "python",
   "pygments_lexer": "ipython3",
   "version": "3.7.6"
  }
 },
 "nbformat": 4,
 "nbformat_minor": 5
}
