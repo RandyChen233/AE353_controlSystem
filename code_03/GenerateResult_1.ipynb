{
 "cells": [
  {
   "cell_type": "markdown",
   "metadata": {},
   "source": [
    "Import modules and configure the notebook."
   ]
  },
  {
   "cell_type": "markdown",
   "metadata": {},
   "source": [
    "# Spacecraft with reaction wheels and star tracker"
   ]
  },
  {
   "cell_type": "code",
   "execution_count": 1,
   "metadata": {},
   "outputs": [
    {
     "data": {
      "text/plain": [
       "<module 'ae353_spacecraft' from 'C:\\\\Users\\\\Gover\\\\documents\\\\projects\\\\ae353\\\\code_03\\\\ae353_spacecraft.py'>"
      ]
     },
     "execution_count": 1,
     "metadata": {},
     "output_type": "execute_result"
    }
   ],
   "source": [
    "# This module is part of the python standard library\n",
    "import time\n",
    "\n",
    "# These modules are part of other existing libraries\n",
    "import numpy as np\n",
    "import matplotlib.pyplot as plt\n",
    "import sympy as sym\n",
    "from scipy import linalg\n",
    "from scipy import signal\n",
    "import math\n",
    "\n",
    "# it is an interface to the pybullet simulator\n",
    "import ae353_spacecraft\n",
    "import importlib\n",
    "importlib.reload(ae353_spacecraft)"
   ]
  },
  {
   "cell_type": "markdown",
   "metadata": {},
   "source": [
    "# Linear state-space form"
   ]
  },
  {
   "cell_type": "markdown",
   "metadata": {},
   "source": [
    "From the EOM file, we obtained the EOMs for both vhiecle and star positions. The first task is to put them in linear state-space form. \n",
    "we will linearize the spacecraft system first."
   ]
  },
  {
   "cell_type": "code",
   "execution_count": 2,
   "metadata": {},
   "outputs": [
    {
     "name": "stdout",
     "output_type": "stream",
     "text": [
      "[[ 0.  0.  0.  1. -0.  0.]\n",
      " [ 0.  0.  0.  0.  1.  0.]\n",
      " [ 0.  0.  0. -0.  0.  1.]\n",
      " [ 0.  0.  0.  0. -0. -0.]\n",
      " [ 0.  0.  0.  0.  0.  0.]\n",
      " [ 0.  0.  0.  0.  0.  0.]]\n",
      "(6, 6)\n",
      "[[ 0.          0.          0.          0.        ]\n",
      " [ 0.          0.          0.          0.        ]\n",
      " [ 0.          0.          0.          0.        ]\n",
      " [-0.05241358  0.05241358  0.          0.        ]\n",
      " [ 0.          0.         -0.05241358  0.05241358]\n",
      " [-0.03732329 -0.03732329 -0.03732329 -0.03732329]]\n",
      "(6, 4)\n"
     ]
    }
   ],
   "source": [
    "#linearize the system\n",
    "#define variables\n",
    "phi,theta,psi,wx,wy,wz,tau1,tau2,tau3,tau4=sym.symbols('phi,theta,psi,wx,wy,wz,tau1,tau2,tau3,tau4')\n",
    "alpha,delta=sym.symbols('alpha,delta')\n",
    "\n",
    "#write out EOM (F)\n",
    "f1=(wx*sym.cos(psi)-wy*sym.sin(psi))/sym.cos(theta)\n",
    "f2=wx*sym.sin(psi)+wy*sym.cos(psi)\n",
    "f3=-wx*sym.cos(psi)*sym.tan(theta)+wy*sym.sin(psi)*sym.tan(theta)+wz\n",
    "f4=-55*math.sqrt(2)*tau1/1484 + 55*math.sqrt(2)*tau2/1484 - 150*wy*wz/371\n",
    "f5=-55*math.sqrt(2)*tau3/1484 + 55*math.sqrt(2)*tau4/1484 + 150*wx*wz/371\n",
    "f6= -55*math.sqrt(2)*(tau1 + tau2 + tau3 + tau4)/2084\n",
    "f=sym.Matrix([[f1],[f2],[f3],[f4],[f5],[f6]])\n",
    "\n",
    "\n",
    "#write out EOM(G)\n",
    "g1=21*((sym.sin(phi)*sym.cos(psi) + sym.sin(psi)*sym.sin(theta)*sym.cos(phi))*sym.sin(delta) - (sym.sin(phi)*sym.sin(psi)*sym.sin(theta) - sym.cos(phi)*sym.cos(psi))*sym.sin(alpha)*sym.cos(delta) - sym.sin(psi)*sym.cos(alpha)*sym.cos(delta)*sym.cos(theta))/(8*((sym.sin(phi)*sym.sin(psi) - sym.sin(theta)*sym.cos(phi)*sym.cos(psi))*sym.sin(delta) + (sym.sin(phi)*sym.sin(theta)*sym.cos(psi) + sym.sin(psi)*sym.cos(phi))*sym.sin(alpha)*sym.cos(delta) + sym.cos(alpha)*sym.cos(delta)*sym.cos(psi)*sym.cos(theta)))\n",
    "g2=21*(-sym.sin(alpha)*sym.sin(phi)*sym.cos(delta)*sym.cos(theta) + sym.sin(delta)*sym.cos(phi)*sym.cos(theta) + sym.sin(theta)*sym.cos(alpha)*sym.cos(delta))/(8*((sym.sin(phi)*sym.sin(psi) - sym.sin(theta)*sym.cos(phi)*sym.cos(psi))*sym.sin(delta) + (sym.sin(phi)*sym.sin(theta)*sym.cos(psi) + sym.sin(psi)*sym.cos(phi))*sym.sin(alpha)*sym.cos(delta) + sym.cos(alpha)*sym.cos(delta)*sym.cos(psi)*sym.cos(theta)))\n",
    "\n",
    "\n",
    "F=sym.Matrix([[f1],[f2],[f3],[f4],[f5],[f6],[g1],[g2]])\n",
    "\n",
    "\n",
    "#determine equilibrium\n",
    "phi_e=0\n",
    "theta_e=0\n",
    "psi_e=0\n",
    "wx_e=0\n",
    "wy_e=0\n",
    "wz_e=0\n",
    "tau1_e=0\n",
    "tau2_e=0\n",
    "tau3_e=0\n",
    "tau4_e=0\n",
    "\n",
    "#linearize the system(f) using jacobian \n",
    "f_num=sym.lambdify((phi,theta,psi,wx,wy,wz,tau1,tau2,tau3,tau4),f)\n",
    "A_num=sym.lambdify((phi,theta,psi,wx,wy,wz,tau1,tau2,tau3,tau4),f.jacobian([phi,theta,psi,wx,wy,wz]))\n",
    "B_num=sym.lambdify((phi,theta,psi,wx,wy,wz,tau1,tau2,tau3,tau4),f.jacobian([tau1,tau2,tau3,tau4]))\n",
    "\n",
    "A=A_num(phi_e,theta_e,psi_e,wx_e,wy_e,wz_e,tau1_e,tau2_e,tau3_e,tau4_e)\n",
    "B=B_num(phi_e,theta_e,psi_e,wx_e,wy_e,wz_e,tau1_e,tau2_e,tau3_e,tau4_e)\n",
    "print(A)\n",
    "print(A.shape)\n",
    "print(B)\n",
    "print(B.shape)\n"
   ]
  },
  {
   "cell_type": "markdown",
   "metadata": {},
   "source": [
    "Linearizing the EOMs for star position is quite tricky. For the output y, there are two new variables : $ \\alpha$ (right ascension (rad)of the star), and $ \\delta$ (deflination(rad) of the star. Since in the original project setting, we have 3 stars, we might set 3 sets of equilibrium values for $\\alpha$ and $\\delta$. \n",
    "To obtain the C matrix, we are using lambdify and jacobian on the sensor model g for all 3 stars (3 set of equilibrium values) and stacked them to get a complete C matrix."
   ]
  },
  {
   "cell_type": "code",
   "execution_count": 3,
   "metadata": {},
   "outputs": [
    {
     "name": "stdout",
     "output_type": "stream",
     "text": [
      "[[ 0.          0.         -2.625       0.          0.          0.        ]\n",
      " [-0.          2.625       0.          0.          0.          0.        ]\n",
      " [ 0.          0.         -2.68495987  0.          0.          0.        ]\n",
      " [-0.39672995  2.625      -0.          0.          0.          0.        ]\n",
      " [ 0.39672995  0.         -2.625       0.          0.          0.        ]\n",
      " [-0.          2.68495987  0.          0.          0.          0.        ]]\n",
      "(6, 6)\n"
     ]
    }
   ],
   "source": [
    "#solving for C matrix\n",
    "\n",
    "alpha_e1=0\n",
    "delta_e1=0\n",
    "\n",
    "alpha_e2=0.15\n",
    "delta_e2=0.\n",
    "\n",
    "alpha_e3=0.\n",
    "delta_e3=0.15\n",
    "\n",
    "#write out EOM(G)\n",
    "g1=21*((sym.sin(phi)*sym.cos(psi) + sym.sin(psi)*sym.sin(theta)*sym.cos(phi))*sym.sin(delta) - (sym.sin(phi)*sym.sin(psi)*sym.sin(theta) - sym.cos(phi)*sym.cos(psi))*sym.sin(alpha)*sym.cos(delta) - sym.sin(psi)*sym.cos(alpha)*sym.cos(delta)*sym.cos(theta))/(8*((sym.sin(phi)*sym.sin(psi) - sym.sin(theta)*sym.cos(phi)*sym.cos(psi))*sym.sin(delta) + (sym.sin(phi)*sym.sin(theta)*sym.cos(psi) + sym.sin(psi)*sym.cos(phi))*sym.sin(alpha)*sym.cos(delta) + sym.cos(alpha)*sym.cos(delta)*sym.cos(psi)*sym.cos(theta)))\n",
    "g2=21*(-sym.sin(alpha)*sym.sin(phi)*sym.cos(delta)*sym.cos(theta) + sym.sin(delta)*sym.cos(phi)*sym.cos(theta) + sym.sin(theta)*sym.cos(alpha)*sym.cos(delta))/(8*((sym.sin(phi)*sym.sin(psi) - sym.sin(theta)*sym.cos(phi)*sym.cos(psi))*sym.sin(delta) + (sym.sin(phi)*sym.sin(theta)*sym.cos(psi) + sym.sin(psi)*sym.cos(phi))*sym.sin(alpha)*sym.cos(delta) + sym.cos(alpha)*sym.cos(delta)*sym.cos(psi)*sym.cos(theta)))\n",
    "\n",
    "g=sym.Matrix([[g1],[g2]])\n",
    "\n",
    "g_num=sym.lambdify((phi,theta,psi,wx,wy,wz,tau1,tau2,tau3,tau4),g)\n",
    "\n",
    "C1_num=sym.lambdify((phi,theta,psi,alpha,delta),g.jacobian([phi,theta,psi,wx,wy,wz]))\n",
    "C1=C1_num(phi_e,theta_e,psi_e,alpha_e1,delta_e1)\n",
    "\n",
    "C2_num=sym.lambdify((phi,theta,psi,alpha,delta),g.jacobian([phi,theta,psi,wx,wy,wz]))\n",
    "C2=C2_num(phi_e,theta_e,psi_e,alpha_e2,delta_e2)\n",
    "\n",
    "C3_num=sym.lambdify((phi,theta,psi,alpha,delta),g.jacobian([phi,theta,psi,wx,wy,wz]))\n",
    "C3=C3_num(phi_e,theta_e,psi_e,alpha_e3,delta_e3)\n",
    "\n",
    "C=np.block([[C1],[C2],[C3]])\n",
    "print(C)\n",
    "print(C.shape)"
   ]
  },
  {
   "cell_type": "markdown",
   "metadata": {},
   "source": [
    "We now define the equilibrium output y (star positions)."
   ]
  },
  {
   "cell_type": "code",
   "execution_count": 4,
   "metadata": {},
   "outputs": [
    {
     "name": "stdout",
     "output_type": "stream",
     "text": [
      "[[0.         0.         0.39672995 0.40123539 0.53211384 0.        ]]\n"
     ]
    }
   ],
   "source": [
    "global y_e\n",
    "y_e=np.block([[g.subs([(phi,0.),(theta,0.),(psi,0.),(alpha,0),(delta,0.)])],[g.subs([(phi,0.),(theta,0.),(psi,0.),(alpha,0.15),(delta,0.15)])],[g.subs([(phi,0.),(theta,0.),(psi,0.),(alpha,0.2),(delta,0.)])]]).astype(float)\n",
    "y_e=y_e.T\n",
    "print(y_e)\n"
   ]
  },
  {
   "cell_type": "markdown",
   "metadata": {},
   "source": [
    "#  Controllability and observability"
   ]
  },
  {
   "cell_type": "markdown",
   "metadata": {},
   "source": [
    "To ensure our linear state-space model is controllable and observable. We need to check if the controllability matrix W and observabily matrix O is full rank."
   ]
  },
  {
   "cell_type": "code",
   "execution_count": 5,
   "metadata": {},
   "outputs": [
    {
     "name": "stdout",
     "output_type": "stream",
     "text": [
      "6\n",
      "6\n"
     ]
    }
   ],
   "source": [
    "#check for controllability\n",
    "W=B\n",
    "for i in range(1,A.shape[0]):\n",
    "    col = np.linalg.matrix_power(A,i) @ B\n",
    "    W=np.block([W,col])\n",
    "    \n",
    "print(np.linalg.matrix_rank(W))\n",
    "print(A.shape[0])"
   ]
  },
  {
   "cell_type": "code",
   "execution_count": 6,
   "metadata": {},
   "outputs": [
    {
     "name": "stdout",
     "output_type": "stream",
     "text": [
      "6\n",
      "6\n"
     ]
    }
   ],
   "source": [
    "#check for observability\n",
    "O=C\n",
    "for i in range(1,A.shape[0]):\n",
    "    col=C@np.linalg.matrix_power(A,i)\n",
    "    O=np.block([[O],[col]])\n",
    "    \n",
    "print(np.linalg.matrix_rank(O))\n",
    "print(A.shape[0])"
   ]
  },
  {
   "cell_type": "markdown",
   "metadata": {},
   "source": [
    "As we can see, the system obtained is both controllable and observable."
   ]
  },
  {
   "cell_type": "markdown",
   "metadata": {},
   "source": [
    "# Design controller and observer using LQR"
   ]
  },
  {
   "cell_type": "markdown",
   "metadata": {},
   "source": [
    "Thank you PraireLearn for preparing me for this."
   ]
  },
  {
   "cell_type": "code",
   "execution_count": 7,
   "metadata": {},
   "outputs": [],
   "source": [
    "#create LQR for controller\n",
    "\n",
    "def LQR_con(A,B):\n",
    "    Q=np.eye(A.shape[0])\n",
    "    R=np.eye(B.shape[1])\n",
    "    x0=np.array([[0],[0],[0],[0],[0],[0]])\n",
    "    P=linalg.solve_continuous_are(A,B,Q,R)\n",
    "    K=linalg.inv(R) @ B.T @ P\n",
    "    u=-K@x0\n",
    "    total_cost=(x0.T @ P @x0).item()\n",
    "    \n",
    "    return P,K,u,total_cost\n"
   ]
  },
  {
   "cell_type": "code",
   "execution_count": 8,
   "metadata": {},
   "outputs": [],
   "source": [
    "#create LQR for observer\n",
    "\n",
    "def LQR_obs(A,C):\n",
    "    Q=3*np.eye(A.shape[0])\n",
    "    R=np.eye(C.shape[1])\n",
    "    P=linalg.solve_continuous_are(A.T,C.T,np.linalg.inv(R),np.linalg.inv(Q))\n",
    "    L=P @ C.T @ Q\n",
    "    return L\n"
   ]
  },
  {
   "cell_type": "code",
   "execution_count": 9,
   "metadata": {},
   "outputs": [
    {
     "name": "stdout",
     "output_type": "stream",
     "text": [
      "[[-7.07106781e-01  6.64954408e-16 -5.00000000e-01 -3.74044237e+00\n",
      "   2.87316642e-15 -2.63594949e+00]\n",
      " [ 7.07106781e-01  9.27324684e-16 -5.00000000e-01  3.74044237e+00\n",
      "   4.11163372e-15 -2.63594949e+00]\n",
      " [-6.61995972e-17 -7.07106781e-01 -5.00000000e-01  5.63229694e-17\n",
      "  -3.74044237e+00 -2.63594949e+00]\n",
      " [ 2.45871095e-16  7.07106781e-01 -5.00000000e-01  1.29479027e-15\n",
      "   3.74044237e+00 -2.63594949e+00]]\n",
      "(4, 6)\n",
      "[[-0.87176787  0.87176787 -0.89168066 -1.92456362  1.92456362  0.89168066]\n",
      " [-0.04217654  1.15260153 -0.04313993  1.02084671  0.08957828  1.17892909]\n",
      " [-1.15260153  0.04217654 -1.17892909 -0.08957828 -1.02084671  0.04313993]\n",
      " [-0.44491009  0.44491009 -0.45507266 -1.04640522  1.04640522  0.45507266]\n",
      " [-0.02106819  1.01345511 -0.02154943  0.94621352  0.04617339  1.0366043 ]\n",
      " [-1.01345511  0.02106819 -1.0366043  -0.04617339 -0.94621352  0.02154943]]\n",
      "(6, 6)\n"
     ]
    }
   ],
   "source": [
    "P,K,u,total_cost=LQR_con(A,B)\n",
    "L=LQR_obs(A,C)\n",
    "\n",
    "print(K)\n",
    "print(K.shape)\n",
    "print(L)\n",
    "print(L.shape)"
   ]
  },
  {
   "cell_type": "markdown",
   "metadata": {},
   "source": [
    "Make sure the system is asymptotically stable."
   ]
  },
  {
   "cell_type": "code",
   "execution_count": 10,
   "metadata": {},
   "outputs": [
    {
     "name": "stdout",
     "output_type": "stream",
     "text": [
      "[-0.19604996+0.18891375j -0.19604996-0.18891375j -0.19676464+0.18955281j\n",
      " -0.19676464-0.18955281j -0.19604996+0.18891375j -0.19604996-0.18891375j]\n"
     ]
    }
   ],
   "source": [
    "print(linalg.eigvals(A-B@K))"
   ]
  },
  {
   "cell_type": "code",
   "execution_count": 11,
   "metadata": {},
   "outputs": [
    {
     "name": "stdout",
     "output_type": "stream",
     "text": [
      "[-0.74501583+0.48932751j -0.74501583-0.48932751j -7.89098284+0.j\n",
      " -1.00812789+0.j         -7.87111001+0.j         -1.00816949+0.j        ]\n"
     ]
    }
   ],
   "source": [
    "print(linalg.eigvals(A-L@C))"
   ]
  },
  {
   "cell_type": "markdown",
   "metadata": {},
   "source": [
    "All negative real parts! Now we know our system is asymptotically stable.\n"
   ]
  },
  {
   "cell_type": "markdown",
   "metadata": {},
   "source": [
    "Define and create an instance of the robot controller. By default, it applies zero torque to all wheels. Modify the `run` function - or anything else in the class definition - to make the controller behave differently."
   ]
  },
  {
   "cell_type": "code",
   "execution_count": 33,
   "metadata": {},
   "outputs": [],
   "source": [
    "class RobotController:\n",
    "    def __init__(self,dt,phi_e,theta_e,psi_e,wx_e,wy_e,wz_e,\\\n",
    "                 tau1_e,tau2_e,tau3_e,tau4_e,y_e,A,B,C,K,L):\n",
    "        self.dt = dt\n",
    "        \n",
    "        self.phi_e=phi_e\n",
    "        self.theta_e=theta_e\n",
    "        self.psi_e=psi_e\n",
    "        self.wx_e=wx_e\n",
    "        self.wy_e=wy_e\n",
    "        self.wz_e=wz_e\n",
    "        self.tau1_e=tau1_e\n",
    "        self.tau2_e=tau2_e\n",
    "        self.tau3_e=tau3_e\n",
    "        self.tau4_e=tau4_e\n",
    "        self.y_e=y_e\n",
    "        \n",
    "        self.A=A\n",
    "        self.B=B\n",
    "        self.C=C\n",
    "        \n",
    "        self.K=K\n",
    "        self.L=L\n",
    "        \n",
    "        self.reset()\n",
    "    \n",
    "    def reset(self,xhat=None,x=None):\n",
    "        if xhat is None:\n",
    "            self.xhat = np.array([[0.],[0.],[0.],[0.],[0.],[0.]])\n",
    "        else:\n",
    "            self.xhat=xhat\n",
    "        if x is None:\n",
    "            self.x =  np.array([[0.],[0.],[0.],[0.],[0.],[0.]])\n",
    "        else:\n",
    "            self.x=x\n",
    "                \n",
    "    \n",
    "    def run(self, p):\n",
    "        u= -self.K@self.xhat\n",
    "        tau = np.array([[u[0]+self.tau1_e,u[1]+self.tau2_e,\\\n",
    "                         u[2]+self.tau3_e,u[3]+self.tau4_e]])\n",
    "        \n",
    "        y = np.array(p-self.y_e)\n",
    "        self.xhat += self.dt*(self.A@self.xhat+self.B@u-self.L@(self.C@self.xhat-y.T))\n",
    "        return tau\n",
    "\n"
   ]
  },
  {
   "cell_type": "code",
   "execution_count": 34,
   "metadata": {},
   "outputs": [],
   "source": [
    "robot = ae353_spacecraft.RobotSimulator(display=False)"
   ]
  },
  {
   "cell_type": "code",
   "execution_count": 35,
   "metadata": {},
   "outputs": [],
   "source": [
    "controller = RobotController(dt = robot.dt,phi_e=phi_e,\n",
    "                             theta_e=theta_e,\n",
    "                             psi_e=psi_e,\n",
    "                             wx_e=wx_e,\n",
    "                             wy_e=wy_e,\n",
    "                             wz_e=wz_e,\n",
    "                             tau1_e=tau1_e,\n",
    "                             tau2_e=tau2_e,\n",
    "                             tau3_e=tau3_e,\n",
    "                             tau4_e=tau4_e,\n",
    "                             y_e=y_e,\n",
    "                             A=A,\n",
    "                             B=B,\n",
    "                             C=C,\n",
    "                             K=K,\n",
    "                             L=L)"
   ]
  },
  {
   "cell_type": "markdown",
   "metadata": {},
   "source": [
    "## Do simulation with the GUI"
   ]
  },
  {
   "cell_type": "markdown",
   "metadata": {},
   "source": [
    "Create an instance of the robot simulator."
   ]
  },
  {
   "cell_type": "markdown",
   "metadata": {},
   "source": [
    "Display a snapshot."
   ]
  },
  {
   "cell_type": "code",
   "execution_count": 15,
   "metadata": {},
   "outputs": [
    {
     "data": {
      "text/plain": [
       "<matplotlib.image.AxesImage at 0x1e6c2b0d148>"
      ]
     },
     "execution_count": 15,
     "metadata": {},
     "output_type": "execute_result"
    },
    {
     "data": {
      "image/png": "[encoded data removed]",
      "text/plain": [
       "<Figure size 648x648 with 1 Axes>"
      ]
     },
     "metadata": {
      "needs_background": "light"
     },
     "output_type": "display_data"
    }
   ],
   "source": [
    "# Get snapshot as 480 x 480 x 4 numpy array of RGBA values\n",
    "rgba = robot.snapshot()\n",
    "\n",
    "# Display snapshot\n",
    "plt.figure(figsize=(9, 9))\n",
    "plt.imshow(rgba)"
   ]
  },
  {
   "cell_type": "markdown",
   "metadata": {},
   "source": [
    "Save the snapshot."
   ]
  },
  {
   "cell_type": "code",
   "execution_count": 16,
   "metadata": {},
   "outputs": [],
   "source": [
    "plt.imsave('my_snapshot.png', rgba)"
   ]
  },
  {
   "cell_type": "markdown",
   "metadata": {},
   "source": [
    "Run the simulation."
   ]
  },
  {
   "cell_type": "code",
   "execution_count": 37,
   "metadata": {},
   "outputs": [
    {
     "name": "stdout",
     "output_type": "stream",
     "text": [
      "elapsed time: 0.3 (should be 20.0)\n"
     ]
    }
   ],
   "source": [
    "# Restore the simulation to its initial state\n",
    "robot.reset()\n",
    "\n",
    "# Restore the controller to its initial state\n",
    "controller.reset()\n",
    "\n",
    "# Choose how long we want to run the simulation, and\n",
    "# compute the corresponding number of time steps\n",
    "run_time = 20.0\n",
    "num_steps = int(run_time/robot.dt)\n",
    "\n",
    "# Create a dictionary in which to store results\n",
    "data = {\n",
    "    't': np.empty(num_steps, dtype=float),\n",
    "    'v': np.empty((4, num_steps), dtype=float),\n",
    "    'p': np.empty((2 * len(robot.stars), num_steps), dtype=float),\n",
    "    'tau': np.empty((4, num_steps), dtype=float),\n",
    "    'rpy': np.empty((3, num_steps), dtype=float),\n",
    "    'angvel': np.empty((3, num_steps), dtype=float),\n",
    "    'xhat': np.empty((6, num_steps), dtype=float),\n",
    "    'x': np.empty((6,num_steps),dtype=float)\n",
    "}\n",
    "\n",
    "# Run the simulation loop\n",
    "start_time = time.time()\n",
    "for step in range(num_steps):\n",
    "    # Get the current time\n",
    "    t = robot.dt * step\n",
    "    \n",
    "    # Get the sensor measurements\n",
    "    p, v = robot.get_sensor_measurements()\n",
    "    \n",
    "    if np.isnan(p).any():\n",
    "        break\n",
    "        \n",
    "    # Choose the actuator command (by running the controller)\n",
    "    tau = controller.run(p)\n",
    "    tau = tau.flatten()\n",
    "    if tau.shape != (4, ):\n",
    "        raise Exception(f'invalid desired torques: {tau}')\n",
    "    \n",
    "    # Get orientation and angular velocity as ground truth\n",
    "    rpy, angvel = robot.get_rpy_and_angvel()\n",
    "        \n",
    "    # Log the data from this time step\n",
    "    data['t'][step] = t\n",
    "    data['v'][:, step] = v\n",
    "    data['p'][:, step] = p\n",
    "    data['tau'][:, step] = tau\n",
    "    data['rpy'][:, step] = rpy\n",
    "    data['angvel'][:, step] = angvel\n",
    "    data['xhat'][:, step] = controller.xhat.flatten()\n",
    "    \n",
    "    # Send the actuator commands to robot and go forward one time step\n",
    "    robot.set_actuator_commands(tau)\n",
    "    robot.step(t=(start_time + (robot.dt * (step + 1))))\n",
    "    \n",
    "print(f'elapsed time: {time.time() - start_time:.1f} (should be {run_time})')"
   ]
  },
  {
   "cell_type": "markdown",
   "metadata": {},
   "source": [
    "Plot the results."
   ]
  },
  {
   "cell_type": "code",
   "execution_count": 38,
   "metadata": {},
   "outputs": [
    {
     "data": {
      "image/png": "[encoded data removed]",
      "text/plain": [
       "<Figure size 648x864 with 3 Axes>"
      ]
     },
     "metadata": {
      "needs_background": "light"
     },
     "output_type": "display_data"
    }
   ],
   "source": [
    "# Create a figure with subplots that all share the same x-axis\n",
    "fig, (ax_rpy, ax_tau, ax_v) = plt.subplots(3, 1, figsize=(9, 12), sharex=True)\n",
    "\n",
    "# Roll, pitch, and yaw angles\n",
    "ax_rpy.plot(data['t'], data['rpy'][0, :], label='roll (rad)', linewidth=4)\n",
    "ax_rpy.plot(data['t'], data['rpy'][1, :], label='pitch (rad)', linewidth=4)\n",
    "ax_rpy.plot(data['t'], data['rpy'][2, :], label='yaw (rad)', linewidth=4)\n",
    "ax_rpy.grid()\n",
    "ax_rpy.legend(fontsize=16)\n",
    "ax_rpy.tick_params(labelsize=14)\n",
    "\n",
    "# Wheel torques\n",
    "for i in range(4):\n",
    "    ax_tau.plot(data['t'], data['tau'][i, :], label=f'torque {i} command (N-m)', linewidth=4)\n",
    "ax_tau.plot(data['t'], np.ones_like(data['t']) * robot.tau_max, '--', label='max joint torque', linewidth=4, color='C2')\n",
    "ax_tau.plot(data['t'], -np.ones_like(data['t']) * robot.tau_max, '--', linewidth=4, color='C2')\n",
    "ax_tau.grid()\n",
    "ax_tau.legend(fontsize=16)\n",
    "ax_tau.tick_params(labelsize=14)\n",
    "ax_tau.set_ylim(-1.2 * robot.tau_max, 1.2 * robot.tau_max)\n",
    "\n",
    "# Wheel speeds\n",
    "for i in range(4):\n",
    "    ax_v.plot(data['t'], data['v'][i, :], label=f'wheel {i} speed (rad/s)', linewidth=4)\n",
    "ax_v.plot(data['t'], np.ones_like(data['t']) * robot.v_max, '--', label='max wheel speed', linewidth=4, color='C2')\n",
    "ax_v.plot(data['t'], -np.ones_like(data['t']) * robot.v_max, '--', linewidth=4, color='C2')\n",
    "ax_v.grid()\n",
    "ax_v.legend(fontsize=16)\n",
    "ax_v.tick_params(labelsize=14)\n",
    "ax_v.set_ylim(-1.2 * robot.v_max, 1.2 * robot.v_max)\n",
    "\n",
    "# Set shared x-axis properties\n",
    "ax_v.set_xlabel('time (s)', fontsize=20)\n",
    "ax_v.set_xlim([data['t'][0], data['t'][-1]])\n",
    "\n",
    "# Make the arrangement of subplots look nice\n",
    "fig.tight_layout()"
   ]
  },
  {
   "cell_type": "markdown",
   "metadata": {},
   "source": [
    "Plot star positions in image."
   ]
  },
  {
   "cell_type": "code",
   "execution_count": null,
   "metadata": {},
   "outputs": [],
   "source": [
    "fig, ax = plt.subplots(1, 1, figsize=(9, 9))\n",
    "for i in range(len(robot.stars)):\n",
    "    y = data['p'][2 * i, :]\n",
    "    z = data['p'][2 * i + 1, :]\n",
    "    ax.plot(-y, z, label=f'star {i}', linewidth=0.5, marker='.', markersize=10)\n",
    "ax.grid()\n",
    "ax.legend(fontsize=16)\n",
    "ax.tick_params(labelsize=14)\n",
    "ax.set_xlim(-1., 1.)\n",
    "ax.set_ylim(-1., 1.)"
   ]
  },
  {
   "cell_type": "markdown",
   "metadata": {},
   "source": [
    "## Do simulation without the GUI and create a video"
   ]
  },
  {
   "cell_type": "markdown",
   "metadata": {},
   "source": [
    "Import what we need to create a video. You must install both [imageio](https://github.com/imageio/imageio) and [imageio-ffmpeg](https://github.com/imageio/imageio-ffmpeg) in order for this to work. You can do this from a terminal (in your `ae353-bullet` environment, for example) as follows:\n",
    "\n",
    "```\n",
    "pip install imageio\n",
    "pip install imageio-ffmpeg\n",
    "```"
   ]
  },
  {
   "cell_type": "code",
   "execution_count": null,
   "metadata": {},
   "outputs": [],
   "source": [
    "import imageio"
   ]
  },
  {
   "cell_type": "markdown",
   "metadata": {},
   "source": [
    "Create an instance of the robot simulator."
   ]
  },
  {
   "cell_type": "code",
   "execution_count": null,
   "metadata": {},
   "outputs": [],
   "source": [
    "robot = ae353_spacecraft.RobotSimulator(display=False)"
   ]
  },
  {
   "cell_type": "markdown",
   "metadata": {},
   "source": [
    "Display a snapshot."
   ]
  },
  {
   "cell_type": "code",
   "execution_count": null,
   "metadata": {},
   "outputs": [],
   "source": [
    "# Get snapshot as 480 x 480 x 4 numpy array of RGBA values\n",
    "rgba = robot.snapshot()\n",
    "\n",
    "# Display snapshot\n",
    "plt.figure(figsize=(9, 9))\n",
    "plt.imshow(rgba)"
   ]
  },
  {
   "cell_type": "markdown",
   "metadata": {},
   "source": [
    "Save the snapshot."
   ]
  },
  {
   "cell_type": "code",
   "execution_count": null,
   "metadata": {},
   "outputs": [],
   "source": [
    "plt.imsave('my_snapshot.png', rgba)"
   ]
  },
  {
   "cell_type": "markdown",
   "metadata": {},
   "source": [
    "Run the simulation."
   ]
  },
  {
   "cell_type": "code",
   "execution_count": null,
   "metadata": {},
   "outputs": [],
   "source": [
    "# Restore the simulation to its initial state\n",
    "robot.reset()\n",
    "\n",
    "# Restore the controller to its initial state\n",
    "controller.reset()\n",
    "\n",
    "# Choose how long we want to run the simulation, and\n",
    "# compute the corresponding number of time steps\n",
    "run_time = 1.0\n",
    "num_steps = int(run_time/robot.dt)\n",
    "\n",
    "# Create a dictionary in which to store results\n",
    "data = {\n",
    "    't': np.empty(num_steps, dtype=float),\n",
    "    'v': np.empty((4, num_steps), dtype=float),\n",
    "    'p': np.empty((2 * len(robot.stars), num_steps), dtype=float),\n",
    "    'tau': np.empty((4, num_steps), dtype=float),\n",
    "    'rpy': np.empty((3, num_steps), dtype=float),\n",
    "    'angvel': np.empty((3, num_steps), dtype=float),\n",
    "    'xhat': np.empty((6, num_steps), dtype=float),\n",
    "}\n",
    "\n",
    "# Open video\n",
    "filename = 'my_video.mp4'\n",
    "fps = int(1 / robot.dt)\n",
    "print(f'Creating a video with name {filename} and fps {fps}')\n",
    "w = imageio.get_writer(filename,\n",
    "                       format='FFMPEG',\n",
    "                       mode='I',\n",
    "                       fps=fps)\n",
    "\n",
    "# Add first frame to video\n",
    "rgba = robot.snapshot()\n",
    "w.append_data(rgba)\n",
    "\n",
    "# Run the simulation loop\n",
    "print(f' step {0:04d} / {num_steps:04d}')\n",
    "start_time = time.time()\n",
    "for step in range(num_steps):\n",
    "    if ((step + 1) % fps) == 0:\n",
    "        print(f' step {step + 1:04d} / {num_steps:04d}')\n",
    "    \n",
    "    # Get the current time\n",
    "    t = robot.dt * step\n",
    "    \n",
    "    # Get the sensor measurements\n",
    "    p, v = robot.get_sensor_measurements()\n",
    "    \n",
    "    # Choose the actuator command (by running the controller)\n",
    "    tau = controller.run(p, v)\n",
    "    if tau.shape != (4, ):\n",
    "        raise Exception(f'invalid desired torques: {tau}')\n",
    "    \n",
    "    # Get orientation and angular velocity as ground truth\n",
    "    rpy, angvel = robot.get_rpy_and_angvel()\n",
    "        \n",
    "    # Log the data from this time step\n",
    "    data['t'][step] = t\n",
    "    data['v'][:, step] = v\n",
    "    data['p'][:, step] = p\n",
    "    data['tau'][:, step] = tau\n",
    "    data['rpy'][:, step] = rpy\n",
    "    data['angvel'][:, step] = angvel\n",
    "    data['xhat'][:, step] = controller.xhat.flatten()\n",
    "    \n",
    "    # Send the actuator commands to robot and go forward one time step\n",
    "    robot.set_actuator_commands(tau)\n",
    "    robot.step(t=(start_time + (robot.dt * (step + 1))))\n",
    "    \n",
    "    # Add frame to video\n",
    "    rgba = robot.snapshot()\n",
    "    w.append_data(rgba)\n",
    "\n",
    "# Close video\n",
    "w.close()\n",
    "print(f'elapsed time: {time.time() - start_time:.1f} (should be {run_time})')"
   ]
  },
  {
   "cell_type": "markdown",
   "metadata": {},
   "source": [
    "Plot the results."
   ]
  },
  {
   "cell_type": "code",
   "execution_count": null,
   "metadata": {},
   "outputs": [],
   "source": [
    "# Create a figure with subplots that all share the same x-axis\n",
    "fig, (ax_rpy, ax_tau, ax_v) = plt.subplots(3, 1, figsize=(9, 12), sharex=True)\n",
    "\n",
    "# Roll, pitch, and yaw angles\n",
    "ax_rpy.plot(data['t'], data['rpy'][0, :], label='roll (rad)', linewidth=4)\n",
    "ax_rpy.plot(data['t'], data['rpy'][1, :], label='pitch (rad)', linewidth=4)\n",
    "ax_rpy.plot(data['t'], data['rpy'][2, :], label='yaw (rad)', linewidth=4)\n",
    "ax_rpy.grid()\n",
    "ax_rpy.legend(fontsize=16)\n",
    "ax_rpy.tick_params(labelsize=14)\n",
    "\n",
    "# Wheel torques\n",
    "for i in range(4):\n",
    "    ax_tau.plot(data['t'], data['tau'][i, :], label=f'torque {i} command (N-m)', linewidth=4)\n",
    "ax_tau.plot(data['t'], np.ones_like(data['t']) * robot.tau_max, '--', label='max joint torque', linewidth=4, color='C2')\n",
    "ax_tau.plot(data['t'], -np.ones_like(data['t']) * robot.tau_max, '--', linewidth=4, color='C2')\n",
    "ax_tau.grid()\n",
    "ax_tau.legend(fontsize=16)\n",
    "ax_tau.tick_params(labelsize=14)\n",
    "ax_tau.set_ylim(-1.2 * robot.tau_max, 1.2 * robot.tau_max)\n",
    "\n",
    "# Wheel speeds\n",
    "for i in range(4):\n",
    "    ax_v.plot(data['t'], data['v'][i, :], label=f'wheel {i} speed (rad/s)', linewidth=4)\n",
    "ax_v.plot(data['t'], np.ones_like(data['t']) * robot.v_max, '--', label='max wheel speed', linewidth=4, color='C2')\n",
    "ax_v.plot(data['t'], -np.ones_like(data['t']) * robot.v_max, '--', linewidth=4, color='C2')\n",
    "ax_v.grid()\n",
    "ax_v.legend(fontsize=16)\n",
    "ax_v.tick_params(labelsize=14)\n",
    "ax_v.set_ylim(-1.2 * robot.v_max, 1.2 * robot.v_max)\n",
    "\n",
    "# Set shared x-axis properties\n",
    "ax_v.set_xlabel('time (s)', fontsize=20)\n",
    "ax_v.set_xlim([data['t'][0], data['t'][-1]])\n",
    "\n",
    "# Make the arrangement of subplots look nice\n",
    "fig.tight_layout()"
   ]
  },
  {
   "cell_type": "markdown",
   "metadata": {},
   "source": [
    "Plot star positions in image."
   ]
  },
  {
   "cell_type": "code",
   "execution_count": null,
   "metadata": {},
   "outputs": [],
   "source": [
    "fig, ax = plt.subplots(1, 1, figsize=(9, 9))\n",
    "for i in range(len(robot.stars)):\n",
    "    y = data['p'][2 * i, :]\n",
    "    z = data['p'][2 * i + 1, :]\n",
    "    ax.plot(-y, z, label=f'star {i}', linewidth=0.5, marker='.', markersize=10)\n",
    "ax.grid()\n",
    "ax.legend(fontsize=16)\n",
    "ax.tick_params(labelsize=14)\n",
    "ax.set_xlim(-1., 1.)\n",
    "ax.set_ylim(-1., 1.)"
   ]
  },
  {
   "cell_type": "code",
   "execution_count": null,
   "metadata": {},
   "outputs": [],
   "source": []
  }
 ],
 "metadata": {
  "kernelspec": {
   "display_name": "Python 3",
   "language": "python",
   "name": "python3"
  },
  "language_info": {
   "codemirror_mode": {
    "name": "ipython",
    "version": 3
   },
   "file_extension": ".py",
   "mimetype": "text/x-python",
   "name": "python",
   "nbconvert_exporter": "python",
   "pygments_lexer": "ipython3",
   "version": "3.7.6"
  }
 },
 "nbformat": 4,
 "nbformat_minor": 5
}
